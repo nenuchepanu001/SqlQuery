{
  "nbformat": 4,
  "nbformat_minor": 0,
  "metadata": {
    "colab": {
      "provenance": [],
      "authorship_tag": "ABX9TyPQWpVoxVtXwvcmQuGmZW0n",
      "include_colab_link": true
    },
    "kernelspec": {
      "name": "python3",
      "display_name": "Python 3"
    },
    "language_info": {
      "name": "python"
    }
  },
  "cells": [
    {
      "cell_type": "markdown",
      "metadata": {
        "id": "view-in-github",
        "colab_type": "text"
      },
      "source": [
        "<a href=\"https://colab.research.google.com/github/nenuchepanu001/SqlQuery/blob/main/Sqlqueries_Filtering.ipynb\" target=\"_parent\"><img src=\"https://colab.research.google.com/assets/colab-badge.svg\" alt=\"Open In Colab\"/></a>"
      ]
    },
    {
      "cell_type": "code",
      "execution_count": null,
      "metadata": {
        "id": "Pa69X8V1cQdV"
      },
      "outputs": [],
      "source": []
    },
    {
      "cell_type": "markdown",
      "source": [
        "**--WHERE**\n",
        "\n",
        "SELECT * FROM EMP WHERE SAL = 5000;\n",
        "\n",
        "SELECT ENAME, JOB FROM EMP WHERE ENAME='KING';\n",
        "\n",
        "SELECT * FROM EMP WHERE SAL = 3000;\n",
        "\n",
        "SELECT COUNT(*) FROM EMP WHERE SAL = 3000;\n",
        "\n",
        "SELECT ENAME FROM EMP WHERE ENAME ='CLARK';\n",
        "\n",
        "SELECT JOB FROM EMP WHERE ENAME='CLARK';\n",
        "\n",
        "SELECT LAST_NAME FROM CUSTOMER WHERE FIRST_NAME='ERICA';\n",
        "\n",
        "**-- WHERE OPERATORS**\n",
        "\n",
        "SELECT * FROM EMP WHERE SAL >3000;\n",
        "\n",
        "SELECT * FROM EMP WHERE SAL <1000;\n",
        "\n",
        "SELECT * FROM EMP WHERE SAL != 3000;\n",
        "\n",
        "SELECT * FROM EMP WHERE SAL <> 5000; -- ANOTHER WAY OF NOT EQUAL SIGN\n",
        "\n",
        "SELECT * FROM EMP WHERE COMM IS NULL;\n",
        "\n",
        "SELECT COUNT(*) FROM EMP WHERE COMM IS NULL;\n",
        "\n",
        "SELECT * FROM EMP WHERE COMM IS NOT NULL;\n",
        "\n",
        "SELECT * FROM EMP WHERE  SAL >2000 ORDER BY SAL;\n",
        "\n",
        "SELECT COUNT(*) FROM RENTALS WHERE RETURN_DATE IS NULL;\n",
        "\n",
        "SELECT PAYMENT_ID,AMOUNT FROM PAYMENTS WHERE AMOUNT <=2 ORDER BY AMOUNT DESC;\n",
        "\n",
        "\n",
        "**-- AND/OR**\n",
        "\n",
        "SELECT * FROM EMP WHERE ENAME = 'KING' AND JOB='PRESIDENT';\n",
        "\n",
        "SELECT * FROM EMP WHERE ENAME = 'KING' OR JOB='MANAGER';\n",
        "\n",
        "SELECT * FROM EMP WHERE EMPNO = 7698 OR (EMPNO=7839 AND JOB='PRESIDENT');\n",
        "\n",
        "SELECT * FROM PAYMENTS WHERE (CUSTOMER_ID = 322 OR CUSTOMER_ID = 346 OR CUSTOMER_ID=354) AND (AMOUNT < 2 OR AMOUNT >10) ORDER BY CUSTOMER_ID ASC, AMOUNT DESC;\n",
        "\n",
        "**-- BETWEEN**\n",
        "\n",
        "SELECT * FROM EMP WHERE SAL BETWEEN 100 AND 1000;\n",
        "\n",
        "SELECT * FROM EMP WHERE SAL NOT BETWEEN 100 AND 1000;\n",
        "\n",
        "SELECT PYAMENT_ID, AMOUNT FROM PAYMENT WHERE AMOUNT BETWEEN '2021-01-24 0:00' AND '2020-01-26 12:00';\n",
        "\n",
        "SELECT COUNT(*) FROM PAYMENT WHERE AMOUNT BETWEEN 1.99 AND 3.99;\n",
        "AND PAYMENT_DATE BETWEEN '2020-01-26' AND '2020-01-27 23:59';\n",
        "\n",
        "** --IN**\n",
        "\n",
        "SELECT * FROM EMP WHERE EMPNO IN (7839,7698,7782);\n",
        "\n",
        "SELECT * FROM EMP WHERE EMPNO NOT IN (7839,7698,7782);\n",
        "\n",
        "SELECT * FROM PAYMENTS WHERE CUSTOMER_ID IN (12,25,67,93,124,234) AND AMOUNT IN (4.99,7.99,9.99)\n",
        "AND PAYMENT_DATE BETWEEN '2020-01-01' AND '2020-02-01';\n",
        "\n",
        "\n",
        "**--LIKE**\n",
        "\n",
        "SELECT * FROM EMP WHERE JOB LIKE 'C%';\n",
        "\n",
        "SELECT * FROM EMP WHERE JOB LIKE '%L%';\n",
        "\n",
        "SELECT * FROM EMP WHERE ENAME LIKE '_COTT';\n",
        "\n",
        "SELECT * FROM EMP WHERE ENAME LIKE '_C%';\n",
        "\n",
        "SELECT COUNT(*) FROM FILM WHERE DESCRIPTION LIKE '%DOCUMENTARY%';\n",
        "\n",
        "SELECT COUNT(*) FROM CUSTOMER WHERE FIRST_NAME LIKE '___' AND (LAST_NAME LIKE '%X' OR LAST_NAME LIKE '%Y');\n",
        "\n",
        "\n",
        "**--COMMENTS AND ALIASES**\n",
        "\n",
        "-- SINGLE LINE COMMENT\n",
        "/*...*/ MULTIPLE LINE COMMENT\n",
        "\n"
      ],
      "metadata": {
        "id": "QBi3HF8dcavM"
      }
    }
  ]
}