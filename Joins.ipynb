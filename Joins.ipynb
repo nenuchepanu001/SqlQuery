{
  "nbformat": 4,
  "nbformat_minor": 0,
  "metadata": {
    "colab": {
      "provenance": [],
      "authorship_tag": "ABX9TyPK3zmi/oRvdp6O3BSh1Nd0",
      "include_colab_link": true
    },
    "kernelspec": {
      "name": "python3",
      "display_name": "Python 3"
    },
    "language_info": {
      "name": "python"
    }
  },
  "cells": [
    {
      "cell_type": "markdown",
      "metadata": {
        "id": "view-in-github",
        "colab_type": "text"
      },
      "source": [
        "<a href=\"https://colab.research.google.com/github/nenuchepanu001/SqlQuery/blob/main/Joins.ipynb\" target=\"_parent\"><img src=\"https://colab.research.google.com/assets/colab-badge.svg\" alt=\"Open In Colab\"/></a>"
      ]
    },
    {
      "cell_type": "markdown",
      "source": [
        "**--INNER JOIN**\n",
        "\n",
        "-- Only rows appear in both tables\n",
        "\n",
        "select * from emp e INNER JOIN dept d on e.DEPTNO = d.DEPTNO;\n",
        "\n",
        "select e.*,d.DNAME,d.LOC from emp e INNER JOIN dept d on e.DEPTNO = d.DEPTNO;\n",
        "\n",
        "select fare_conditions count(*) from boarding_passes b INNER JOIN seats s on s.seat_no=b.seat_no group by fare_conditions;\n",
        "\n",
        "**--FullOuter JOIN**\n",
        "\n",
        "select * from tableA a full outer join tableB b on  a.emp= b.emp;\n",
        "\n",
        "select * from boarding_passes b full outer join tickets t on b.ticket_no=t.ticket_no;\n",
        "\n",
        "--find the tickets that don't have boarding pass\n",
        "\n",
        "select * from boarding_passes b full outer join tickets t on b.ticket_no=t.ticket_no where b.ticket_no is null;\n",
        "\n",
        "select * from emp e full outer join dept d on e.DEPTNO = d.DEPTNO;\n",
        "\n",
        "select * from emp e full outer join dept d on e.DEPTNO = d.DEPTNO where e.EMPNO is null;\n",
        "\n",
        "\n",
        "**--Left outer join**\n",
        "\n",
        "select * from emp e left join dept d on e.DEPTNO=d.DEPTNO;\n",
        "\n",
        "select * from emp e left join dept d on e.DEPTNO=d.DEPTNO where e.DEPTNO is null;\n",
        "\n",
        "select s.seat_no,count(*) from seats s left join boarding_passed b on s.seat_no=b.seat_no  group by s.seat_no order by count(*) desc\n",
        "\n",
        "\n",
        "select first_name,last_name,phone,district from customer c\n",
        "left join address a\n",
        "on c.address_id=a.address_id\n",
        "where district ='Texas'\n",
        "\n",
        "select * from address a\n",
        "left join customer c\n",
        "on c.address_id=a.address_id where c.customer_id is null\n",
        "\n",
        "** -- multiple conditions**\n",
        "select * from TableA a\n",
        "INNER JOIN TableB b\n",
        "on a.first_name=b.first_name and a.last_name=b.last_name\n",
        "\n",
        "\n",
        "select * from TableA a\n",
        "INNER JOIN TableB b\n",
        "on a.first_name=b.first_name and a.last_name='Jones'\n",
        "\n",
        "** -- JOining multiple tables**\n",
        "\n",
        "select employee,co.country from sales s INNER Join city ci on s.city_id = ci.city_id inner join country co on ci.country_id = co.country_id\n",
        "\n",
        "\n",
        "\n"
      ],
      "metadata": {
        "id": "dU5oJDiTyZv9"
      }
    }
  ]
}