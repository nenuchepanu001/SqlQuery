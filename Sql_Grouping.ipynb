{
  "nbformat": 4,
  "nbformat_minor": 0,
  "metadata": {
    "colab": {
      "provenance": [],
      "authorship_tag": "ABX9TyMORjU8jwmHxuspnC9dKF6W",
      "include_colab_link": true
    },
    "kernelspec": {
      "name": "python3",
      "display_name": "Python 3"
    },
    "language_info": {
      "name": "python"
    }
  },
  "cells": [
    {
      "cell_type": "markdown",
      "metadata": {
        "id": "view-in-github",
        "colab_type": "text"
      },
      "source": [
        "<a href=\"https://colab.research.google.com/github/nenuchepanu001/SqlQuery/blob/main/Sql_Grouping.ipynb\" target=\"_parent\"><img src=\"https://colab.research.google.com/assets/colab-badge.svg\" alt=\"Open In Colab\"/></a>"
      ]
    },
    {
      "cell_type": "markdown",
      "source": [],
      "metadata": {
        "id": "4BRgGjj9F-0J"
      }
    },
    {
      "cell_type": "markdown",
      "source": [
        "**--CHALLENGES OF FILTERING**\n",
        "\n",
        "SELECT COUNT(*) AS NO_OF_MOVIES FROM FILM WHERE DESCRIPTION LIKE '%Saga%' AND (TITLE LIKE 'A%' OR TITLE LIKE '%R')\n",
        "\n",
        "SELECT * FROM CUSTOMER WHERE FIRST_NAME LIKE '%ER%' AND FIRST_NAME LIKE '%_A%' ORDER BY LAST_NAME DESC;\n",
        "\n",
        "SELECT COUNT(*) FROM PAYMENT WHERE (AMOUNT =0 OR AMOUNT BETWEEN 3.99 AND 7.99) AND PAYMENT_DATE BETWEEN '2020-05-01' AND '2020-05-02'\n",
        "\n",
        "**--GROUPING**\n",
        "\n",
        "**--AGGREGATE FUNC**\n",
        "\n",
        "SELECT SUM(SAL) FROM EMP; --ANOTHER COLUMN SHOWING IS NOT POSSIBLE CAN USE ONLY WHILE GROUPING\n",
        "\n",
        "SELECT AVG(SAL) FROM EMP;\n",
        "\n",
        "SELECT ROUND(AVG(SAL),2) FROM EMP;\n",
        "\n",
        "SELECT SUM(SAL),ROUND(AVG(SAL)) FROM EMP;\n",
        "\n",
        "SELECT MIN(REPLACEMENT_COST),MAX(REPLACEMENT_COST),ROUND(AVG(REPLACEMENT_COST),2) AS AVG,SUM(REPLACEMENT_COST) FROM FILM\n",
        "\n",
        "**--GROUP BY**\n",
        "\n",
        "SELECT JOB,ROUND(AVG(SAL),2) AS AVG_SAL FROM EMP GROUP BY JOB;\n",
        "\n",
        "SELECT JOB,ROUND(AVG(SAL),2) AS AVG_SAL,MAX(SAL) FROM EMP GROUP BY JOB ORDER BY AVG_SAL;\n",
        "\n",
        "SELECT STAFF_ID,SUM(AMOUNT),COUNT(*) FROM PAYMENT GROUP BY STAFF_ID ORDER BY SUM (AMOUNT) DESC\n",
        "\n",
        "SELECT STAFF_ID,SUM(AMOUNT),COUNT(*) FROM PAYMENT WHERE AMOUNT <> 0 GROUP BY STAFF_ID\n",
        "\n",
        "**--HAVING**\n",
        "\n",
        "SELECT JOB,SUM(SAL) FROM EMP GROUP BY JOB HAVING SUM(SAL)>4000;"
      ],
      "metadata": {
        "id": "e18LeC2IGAqf"
      }
    }
  ]
}