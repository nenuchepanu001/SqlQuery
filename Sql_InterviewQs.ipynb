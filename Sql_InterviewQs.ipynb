{
  "nbformat": 4,
  "nbformat_minor": 0,
  "metadata": {
    "colab": {
      "provenance": [],
      "authorship_tag": "ABX9TyMS+cMOJDMgKcSh4jmVdve2",
      "include_colab_link": true
    },
    "kernelspec": {
      "name": "python3",
      "display_name": "Python 3"
    },
    "language_info": {
      "name": "python"
    }
  },
  "cells": [
    {
      "cell_type": "markdown",
      "metadata": {
        "id": "view-in-github",
        "colab_type": "text"
      },
      "source": [
        "<a href=\"https://colab.research.google.com/github/nenuchepanu001/SqlQuery/blob/main/Sql_InterviewQs.ipynb\" target=\"_parent\"><img src=\"https://colab.research.google.com/assets/colab-badge.svg\" alt=\"Open In Colab\"/></a>"
      ]
    },
    {
      "cell_type": "markdown",
      "source": [
        "**SQL Query to Find Second Highest Salary**\n",
        "\n",
        "select MAX(SAL) from emp where SAL < (SELECT MAX(SAL) FROM emp);\n",
        "\n"
      ],
      "metadata": {
        "id": "HcHwx5l5jb6y"
      }
    }
  ]
}