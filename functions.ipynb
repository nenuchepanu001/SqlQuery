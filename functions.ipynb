{
  "nbformat": 4,
  "nbformat_minor": 0,
  "metadata": {
    "colab": {
      "provenance": [],
      "authorship_tag": "ABX9TyNYN8KDDQQoODbV646GFQJ4",
      "include_colab_link": true
    },
    "kernelspec": {
      "name": "python3",
      "display_name": "Python 3"
    },
    "language_info": {
      "name": "python"
    }
  },
  "cells": [
    {
      "cell_type": "markdown",
      "metadata": {
        "id": "view-in-github",
        "colab_type": "text"
      },
      "source": [
        "<a href=\"https://colab.research.google.com/github/nenuchepanu001/SqlQuery/blob/main/functions.ipynb\" target=\"_parent\"><img src=\"https://colab.research.google.com/assets/colab-badge.svg\" alt=\"Open In Colab\"/></a>"
      ]
    },
    {
      "cell_type": "markdown",
      "source": [
        "**--String functions**\n",
        "\n",
        "select upper(JoB) from emp;\n",
        "\n",
        "select lower(JoB) as job_email from emp;\n",
        "\n",
        "select JOB,length(JOB) from emp;\n",
        "\n",
        "select ENAME from emp where length(ENAME) >5;\n",
        "\n",
        "select lower(firstname),lower(lastname),lower(email) from customer where length(firstname) >10 or length(lastname) >10;\n",
        "\n",
        "select left(firstname,2) ,firstname from customer;-- to pick part of string\n",
        "\n",
        "select right(firstname,2) ,firstname from customer;\n",
        "\n",
        "--only 2nd letter of firstname\n",
        "\n",
        "select right(ENAME,2) from emp;\n",
        "\n",
        "select right(email,5),left(right(email,4),1) from customer;\n",
        "\n",
        "**--concat**\n",
        "\n",
        "select first_name || last_name from customer -- concat\n",
        "\n",
        "select first_name || '.' || last_name from customer\n",
        "\n",
        "select left(email,1) || '***' || right(email,19) from customer\n",
        "\n",
        "**--POSITION**\n",
        "    \n",
        "select position('-' IN HIREDATE),HIREDATE from customer;\n",
        "\n",
        "select lastname || ',' || left(email,Position('.' IN email),-1) from customer;\n",
        "\n",
        "**-- SUBSTRING**\n",
        "-- extract substring from a given string\n",
        "\n",
        "select email,substring(email,from 3 for 2) from customers;\n",
        "\n",
        "select JOB,substring (JOB, 2,4) from emp;\n",
        "\n",
        "**--Extract**\n",
        "\n",
        "-- used to extract parts of timestamp/date\n",
        "\n",
        "select HIREDATE,extract(day from HIREDATE) from emp;\n",
        "\n",
        "select HIREDATE,extract(day from HIREDATE),count(*) from emp group by extract(month from HIREDATE) order by count(*) desc;\n",
        "\n",
        "\n",
        "**-- TO CHAR**\n",
        "-- used to get custom formats for timestamp/date/numbers\n",
        "\n",
        "select to_char(payment_date,'MM-YYYY') from payment;\n",
        "\n",
        "\n",
        "**-- Interval/timestamps**\n",
        "select current_timestamp,HIREDATE from emp;\n",
        "\n",
        "select current_timestamp,HIREDATE, extract(day from current_timestamp - HIREDATE) from emp;\n",
        "\n",
        "\n",
        "\n"
      ],
      "metadata": {
        "id": "U8NqkTtJ2pMU"
      }
    }
  ]
}