{
  "nbformat": 4,
  "nbformat_minor": 0,
  "metadata": {
    "colab": {
      "provenance": [],
      "authorship_tag": "ABX9TyNDEMEHXSueBZnx7Mv2n6gT",
      "include_colab_link": true
    },
    "kernelspec": {
      "name": "python3",
      "display_name": "Python 3"
    },
    "language_info": {
      "name": "python"
    }
  },
  "cells": [
    {
      "cell_type": "markdown",
      "metadata": {
        "id": "view-in-github",
        "colab_type": "text"
      },
      "source": [
        "<a href=\"https://colab.research.google.com/github/nenuchepanu001/SqlQuery/blob/main/sets_rollups_selfjoins.ipynb\" target=\"_parent\"><img src=\"https://colab.research.google.com/assets/colab-badge.svg\" alt=\"Open In Colab\"/></a>"
      ]
    },
    {
      "cell_type": "markdown",
      "source": [
        "**grouping sets**\n",
        "\n",
        "    select null as month,staff_id,sum(amount) from payment group by staff_id\n",
        "    union\n",
        "    select to_char(payment_date,'Month') as month,null as staff_id,sum(amount) from payment group by to_char(payment_date,'month')\n",
        "\n",
        "\n",
        "    select to_char(payment_date,'Month') as month,staff_id,sum(amount) from payment\n",
        "    group  by grouping sets((staff_id),(month),(staff_id,month)) order by 1,2\n",
        "\n",
        "\n",
        "\n",
        "**ROLL UP**\n",
        "\n",
        "    GROUP BY ROLLUP(COL1,COL2,COL3)\n",
        "\n",
        "    SELECT 'Q' || TO_CHAR(PAYMENT_DATE,'Q') AS QUARTER,\n",
        "    EXTRACT(MONTH FROM PAYMENT_DATE) AS MONTH,\n",
        "    DATE(PAYMENT_DATE),SUM(AMOUNT) FROM PAYMENT GROUP BY\n",
        "    ROLLUP('Q' || TO_CHAR(PAYMENT_DATE,'Q') AS QUARTER,\n",
        "    EXTRACT(MONTH FROM PAYMENT_DATE) AS MONTH,\n",
        "    DATE(PAYMENT_DATE)) OREDER BY 1,2,3\n",
        "\n",
        "\n",
        "**cube**\n",
        "\n",
        "    GROUP BY CUBE(COL1,COL2,COL3)\n",
        "\n",
        "    SELECT CUST_ID,STAFF_ID,DATE(PAYMENT_DATE),SUM(AMOUNT) FROM PAYMENT\n",
        "    GROUP BY CUBE( CUST_ID,STAFF_ID,DATE(PAYMENT_DATE)) ORDER BY 1,2,3\n",
        "\n",
        "**SELF JOIN**\n",
        "\n",
        "    SELECT e1.EMPNO,e1.ENAME as employee,m1.ENAME as manager FROM emp e1 left join emp m1 on e1.MGR=m1.EMPNO;\n",
        "\n",
        "**Cross join**\n",
        "\n",
        "    select  e1.ENAME,d1.DNAME from emp e1 cross join dept d1\n",
        "\n",
        "**Natural Join**\n",
        "\n",
        "-- automatically joins using columns with same column name\n",
        "    \n",
        "    select * from payment natural left join customer\n",
        "\n",
        "    select * from payment natural inner join customer\n"
      ],
      "metadata": {
        "id": "OqNLSdk4rq2C"
      }
    }
  ]
}