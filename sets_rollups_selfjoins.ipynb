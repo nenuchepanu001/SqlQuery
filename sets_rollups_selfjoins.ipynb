{
  "nbformat": 4,
  "nbformat_minor": 0,
  "metadata": {
    "colab": {
      "provenance": [],
      "authorship_tag": "ABX9TyNMqKdhLJ5CpG5OT6xhBqvx",
      "include_colab_link": true
    },
    "kernelspec": {
      "name": "python3",
      "display_name": "Python 3"
    },
    "language_info": {
      "name": "python"
    }
  },
  "cells": [
    {
      "cell_type": "markdown",
      "metadata": {
        "id": "view-in-github",
        "colab_type": "text"
      },
      "source": [
        "<a href=\"https://colab.research.google.com/github/nenuchepanu001/SqlQuery/blob/main/sets_rollups_selfjoins.ipynb\" target=\"_parent\"><img src=\"https://colab.research.google.com/assets/colab-badge.svg\" alt=\"Open In Colab\"/></a>"
      ]
    },
    {
      "cell_type": "markdown",
      "source": [
        "** grouping sets**\n",
        "\n",
        "    select null as month,staff_id,sum(amount) from payment group by staff_id\n",
        "    union\n",
        "    select to_char(payment_date,'Month') as month,null as staff_id,sum(amount) from payment group by to_char(payment_date,'month')\n",
        "\n",
        "\n",
        "    select to_char(payment_date,'Month') as month,staff_id,sum(amount) from payment\n",
        "    group  by grouping sets((staff_id),(month),(staff_id,month)) order by 1,2\n",
        "\n",
        "    "
      ],
      "metadata": {
        "id": "OqNLSdk4rq2C"
      }
    }
  ]
}