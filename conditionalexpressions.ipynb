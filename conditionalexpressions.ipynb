{
  "nbformat": 4,
  "nbformat_minor": 0,
  "metadata": {
    "colab": {
      "provenance": [],
      "authorship_tag": "ABX9TyPyjM9qvtcLzoqZ4fyFaOVA",
      "include_colab_link": true
    },
    "kernelspec": {
      "name": "python3",
      "display_name": "Python 3"
    },
    "language_info": {
      "name": "python"
    }
  },
  "cells": [
    {
      "cell_type": "markdown",
      "metadata": {
        "id": "view-in-github",
        "colab_type": "text"
      },
      "source": [
        "<a href=\"https://colab.research.google.com/github/nenuchepanu001/SqlQuery/blob/main/conditionalexpressions.ipynb\" target=\"_parent\"><img src=\"https://colab.research.google.com/assets/colab-badge.svg\" alt=\"Open In Colab\"/></a>"
      ]
    },
    {
      "cell_type": "markdown",
      "source": [
        "**--CASE**\n",
        "\n",
        "SELECT SAL,\n",
        "CASE\n",
        "WHEN SAL <1000 THEN 'LOW AMOUNT'\n",
        "WHEN SAL <3000 THEN 'MEDIUM AMOUNT'\n",
        "ELSE 'HIGH AMOUNT'\n",
        "END\n",
        "FROM EMP;\n",
        "\n",
        "SELECT ACTUAL_DEPARTURE-SCHEDULED DEPARTURE\n",
        "CASE WHEN ACTUAL_DEPARTURE-SCHEDULED DEPARTURE  < '00:05' tHEN 'ONTIME'\n",
        "END\n",
        "FROM FLIGHTS\n",
        "\n"
      ],
      "metadata": {
        "id": "9fpaNjyAUPyL"
      }
    }
  ]
}