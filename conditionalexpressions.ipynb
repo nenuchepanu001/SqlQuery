{
  "nbformat": 4,
  "nbformat_minor": 0,
  "metadata": {
    "colab": {
      "provenance": [],
      "authorship_tag": "ABX9TyPDbNG7yhlsPn+4YLD3X4PY",
      "include_colab_link": true
    },
    "kernelspec": {
      "name": "python3",
      "display_name": "Python 3"
    },
    "language_info": {
      "name": "python"
    }
  },
  "cells": [
    {
      "cell_type": "markdown",
      "metadata": {
        "id": "view-in-github",
        "colab_type": "text"
      },
      "source": [
        "<a href=\"https://colab.research.google.com/github/nenuchepanu001/SqlQuery/blob/main/conditionalexpressions.ipynb\" target=\"_parent\"><img src=\"https://colab.research.google.com/assets/colab-badge.svg\" alt=\"Open In Colab\"/></a>"
      ]
    },
    {
      "cell_type": "markdown",
      "source": [
        "**--CASE**\n",
        "\n",
        "SELECT SAL,\n",
        "CASE\n",
        "WHEN SAL <1000 THEN 'LOW AMOUNT'\n",
        "WHEN SAL <3000 THEN 'MEDIUM AMOUNT'\n",
        "ELSE 'HIGH AMOUNT'\n",
        "END\n",
        "FROM EMP;\n",
        "\n",
        "SELECT ACTUAL_DEPARTURE-SCHEDULED DEPARTURE\n",
        "CASE WHEN ACTUAL_DEPARTURE-SCHEDULED DEPARTURE  < '00:05' tHEN 'ONTIME'\n",
        "END\n",
        "FROM FLIGHTS\n",
        "\n",
        "select rating\n",
        "SUM(case\n",
        "when rating IN ('PG','G') then 1\n",
        "ELSE 0\n",
        "END) as no_of_ratings\n",
        "from film\n",
        "group by rating;\n",
        "\n",
        "**--COALesce**\n",
        "\n",
        "--returns first value of list of values which is not null\n",
        "\n",
        "select coalesce(actual-scheduled,'not arrived yer 00:00') from flights;\n",
        "\n",
        "**--CAST**\n",
        "\n",
        "--changes the data type of a value\n",
        "\n",
        "select coalesce(cast(actual-scheduled as varchar),'not arrived') from flights;\n",
        "\n",
        "select length(cast(actual_arrival as varchar)) from flights;\n",
        "\n",
        "\n",
        "select cast (ticket_no as bigint) from tickets;\n",
        "\n",
        "**-- rEPLACE**\n",
        "-- replaces text from a string in a column with another text\n",
        "\n",
        "select ENAME,replace(JOB,'PRESIDENT','PRES') as replace from emp;"
      ],
      "metadata": {
        "id": "9fpaNjyAUPyL"
      }
    }
  ]
}