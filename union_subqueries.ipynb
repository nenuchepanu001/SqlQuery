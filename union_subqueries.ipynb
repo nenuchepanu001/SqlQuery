{
  "nbformat": 4,
  "nbformat_minor": 0,
  "metadata": {
    "colab": {
      "provenance": [],
      "authorship_tag": "ABX9TyNXnGoi0a4SftJm18zoC9Uc",
      "include_colab_link": true
    },
    "kernelspec": {
      "name": "python3",
      "display_name": "Python 3"
    },
    "language_info": {
      "name": "python"
    }
  },
  "cells": [
    {
      "cell_type": "markdown",
      "metadata": {
        "id": "view-in-github",
        "colab_type": "text"
      },
      "source": [
        "<a href=\"https://colab.research.google.com/github/nenuchepanu001/SqlQuery/blob/main/union_subqueries.ipynb\" target=\"_parent\"><img src=\"https://colab.research.google.com/assets/colab-badge.svg\" alt=\"Open In Colab\"/></a>"
      ]
    },
    {
      "cell_type": "markdown",
      "source": [
        "**--union**\n",
        "\n",
        "--combining rows wifth correct order\n",
        "-- no of columns and datatype must match\n",
        "-- to get duplicates as well we use  union all\n",
        "    \n",
        "select firstname,sales from vancouver\n",
        "union\n",
        "select firstname,sales from delhi\n",
        "\n",
        "select firstname,sales from vancouver\n",
        "union all\n",
        "select firstname,sales from delhi\n",
        "\n",
        "\n",
        "**-- subqueries in where**\n",
        "\n",
        "select * from emp where SAL >(select AVG(SAL) from emp);\n",
        "\n",
        "select * from payment where customer_id = (select customer_id from customer where first_name='ADAM')\n",
        "\n",
        "select * from payment where customer_id IN (select customer_id from customer where first_name like'A%')\n",
        "\n",
        "select * from film where length > (select AVG(length) of film);\n",
        "\n",
        "select * from film\n",
        "where film_id in(select film_id from inventory where store_id=2 group by film_id having count(*) >3)\n",
        "\n",
        "select first_name,last_name from customer\n",
        "where customer_id in (select customer_id from payment where DATE(payment_date)='2020-01-02')\n",
        "\n",
        "**--subqueries from**\n",
        "\n",
        "select avg(total_amount) from (select customer_id, sum(amount) as total_amount from payment group by customer_id) as subquery\n",
        "\n",
        "\n",
        "**-- subquery in select**\n",
        "\n",
        "select *,(select AVG(amount) from payment) from payment\n",
        "\n",
        "**--CORRELATED SUBQUERIES**\n",
        "\n",
        "\n",
        "select * from emp e1 where sales > (select avg(sales) from emp e2 where e1.city=e2.city);\n",
        "\n",
        "**-- correlated select**\n",
        "\n",
        "select firstname,sales,(select min(sales) from employee e3 where e1.city=e3.city) from employee e1\n",
        "where sales > (select avg(sales) from employees e2 where e1.city=e2.city)\n",
        "\n",
        "select firstname,sales,(select min(sales) from employee e3 where e1.city=e3.city) from employee e1\n",
        "where sales > (select avg(sales) from employees e2 where e1.city=e2.city)"
      ],
      "metadata": {
        "id": "MruuStuA9Nej"
      }
    }
  ]
}