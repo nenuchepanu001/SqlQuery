{
  "nbformat": 4,
  "nbformat_minor": 0,
  "metadata": {
    "colab": {
      "provenance": [],
      "authorship_tag": "ABX9TyPYT5+7uqOyVlOiBndjzuPD",
      "include_colab_link": true
    },
    "kernelspec": {
      "name": "python3",
      "display_name": "Python 3"
    },
    "language_info": {
      "name": "python"
    }
  },
  "cells": [
    {
      "cell_type": "markdown",
      "metadata": {
        "id": "view-in-github",
        "colab_type": "text"
      },
      "source": [
        "<a href=\"https://colab.research.google.com/github/nenuchepanu001/SqlQuery/blob/main/Sqlqueries.ipynb\" target=\"_parent\"><img src=\"https://colab.research.google.com/assets/colab-badge.svg\" alt=\"Open In Colab\"/></a>"
      ]
    },
    {
      "cell_type": "code",
      "execution_count": null,
      "metadata": {
        "id": "Pa69X8V1cQdV"
      },
      "outputs": [],
      "source": []
    },
    {
      "cell_type": "markdown",
      "source": [
        "SELECT * FROM EMP;\n",
        "\n",
        "SELECT ENAME,JOB FROM EMP;\n",
        "\n",
        "-- ORDER BY\n",
        "\n",
        "SELECT ENAME , SAL FROM EMP ORDER BY SAL;\n",
        "\n",
        "SELECT ENAME , SAL FROM EMP ORDER BY ENAME DESC ;\n",
        "\n",
        "SELECT ENAME ,SAL FROM EMP ORDER BY ENAME, SAL;\n",
        "\n",
        "SELECT ENAME FROM EMP ORDER BY ENAME DESC;\n",
        "\n"
      ],
      "metadata": {
        "id": "QBi3HF8dcavM"
      }
    }
  ]
}