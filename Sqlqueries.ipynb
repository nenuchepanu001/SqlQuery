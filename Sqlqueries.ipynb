{
  "nbformat": 4,
  "nbformat_minor": 0,
  "metadata": {
    "colab": {
      "provenance": [],
      "authorship_tag": "ABX9TyOVqVEox5Y1l6NTiJV6kkWj",
      "include_colab_link": true
    },
    "kernelspec": {
      "name": "python3",
      "display_name": "Python 3"
    },
    "language_info": {
      "name": "python"
    }
  },
  "cells": [
    {
      "cell_type": "markdown",
      "metadata": {
        "id": "view-in-github",
        "colab_type": "text"
      },
      "source": [
        "<a href=\"https://colab.research.google.com/github/nenuchepanu001/SqlQuery/blob/main/Sqlqueries.ipynb\" target=\"_parent\"><img src=\"https://colab.research.google.com/assets/colab-badge.svg\" alt=\"Open In Colab\"/></a>"
      ]
    },
    {
      "cell_type": "code",
      "execution_count": null,
      "metadata": {
        "id": "Pa69X8V1cQdV"
      },
      "outputs": [],
      "source": []
    },
    {
      "cell_type": "markdown",
      "source": [
        "SELECT * FROM EMP;\n",
        "\n",
        "SELECT ENAME,JOB FROM EMP;\n",
        "\n",
        "**-- ORDER BY**\n",
        "\n",
        "SELECT ENAME , SAL FROM EMP ORDER BY SAL;\n",
        "\n",
        "SELECT ENAME , SAL FROM EMP ORDER BY ENAME DESC ;\n",
        "\n",
        "SELECT ENAME ,SAL FROM EMP ORDER BY ENAME, SAL;\n",
        "\n",
        "SELECT ENAME FROM EMP ORDER BY ENAME DESC;\n",
        "\n",
        "**-- DISTINCT**\n",
        "\n",
        "SELECT DISTINCT ENAME FROM EMP;\n",
        "\n",
        "SELECT DISTINCT JOB FROM EMP;\n",
        "\n",
        "SELECT DISTINCT ENAME, JOB FROM EMP;\n",
        "\n",
        "SELECT DISTINCT AMOUNT FROM PAYMENT ORDER BY AMOUNT DESC;\n",
        "\n",
        "**--LIMIT**\n",
        "\n",
        "SELECT ENAME FROM EMP LIMIT 2;\n",
        "\n",
        "\n",
        "**-- COUNT**\n",
        "\n",
        "SELECT COUNT(*) FROM EMP;\n",
        "\n",
        "SELECT COUNT(ENAME) FROM EMP; --IF NULL VALUES EXIST COUNT MAY BE DIFFERENT\n",
        "\n",
        "SELECT COUNT(DISTINCT JOB) FROM EMP;\n",
        "\n",
        "**-- CHALLENGE 1**\n",
        "\n",
        "SELECT DISTINCT DISTRICTS FROM ADDRESS;\n",
        "\n",
        "SELECT RENTAL_DATE FROM RENTAL ORDER BY RENTAL_DATE DESC LIMIT 1;\n",
        "\n",
        "SELECT COUNT(*) FROM FILM\n",
        "\n",
        "SELECT COUNT(DISTINCT LAST_NAME) FROM CUSTOMER\n",
        "\n"
      ],
      "metadata": {
        "id": "QBi3HF8dcavM"
      }
    }
  ]
}