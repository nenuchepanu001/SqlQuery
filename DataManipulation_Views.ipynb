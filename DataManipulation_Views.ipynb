{
  "nbformat": 4,
  "nbformat_minor": 0,
  "metadata": {
    "colab": {
      "provenance": [],
      "authorship_tag": "ABX9TyObc3rORV9kdLa9xxVh3BuM",
      "include_colab_link": true
    },
    "kernelspec": {
      "name": "python3",
      "display_name": "Python 3"
    },
    "language_info": {
      "name": "python"
    }
  },
  "cells": [
    {
      "cell_type": "markdown",
      "metadata": {
        "id": "view-in-github",
        "colab_type": "text"
      },
      "source": [
        "<a href=\"https://colab.research.google.com/github/nenuchepanu001/SqlQuery/blob/main/DataManipulation_Views.ipynb\" target=\"_parent\"><img src=\"https://colab.research.google.com/assets/colab-badge.svg\" alt=\"Open In Colab\"/></a>"
      ]
    },
    {
      "cell_type": "markdown",
      "source": [
        "**update**\n",
        "\n",
        "    update <tablename>\n",
        "    set genre='Country Music'\n",
        "\n",
        "    update <tablename>\n",
        "    set genre='Pop Music'\n",
        "    where song_id=4\n",
        "\n",
        "    update songs\n",
        "    set price=song_id+0.99\n",
        "\n",
        "    update customer\n",
        "    set initials = left(firstname,1)||'.'||left(lastname,1)||'.'||\n",
        "\n",
        "** Delete**\n",
        "--delete rows from a table\n",
        "\n",
        "    delete from <tablename>\n",
        "    where condition\n",
        "\n",
        "    delete from songs\n",
        "\n",
        "    delete from songs\n",
        "    where song_id in (2,3)\n",
        "    returning song_id\n",
        "\n",
        "    delete from songs\n",
        "    where song_id in (2,3)\n",
        "    returning *\n",
        "\n",
        "**Create table as**\n",
        "\n",
        "    create table <tablename>\n",
        "    as <query>\n",
        "\n",
        "    create table customer_anonymous\n",
        "    as\n",
        "    select customer_id,initials\n",
        "    from customer\n",
        "    where firstname like 'C%'\n",
        "\n",
        "** Create view**\n",
        "\n",
        "-- data will not storage physically\n",
        "\n",
        "    create view <viewname>\n",
        "    as query\n",
        "\n",
        "    create view customer_anonymous\n",
        "    as\n",
        "    select customer_id,initials\n",
        "    from customer\n",
        "    where firstname like 'C%\n",
        "\n",
        "**materialized view**\n",
        "\n",
        "    create materialized view <viewname>\n",
        "    as query\n",
        "\n",
        "    refresh materialized view <viewname>\n",
        "\n",
        "** Manage views**\n",
        "\n",
        "    alter,drop views\n",
        "\n",
        "    create or replace view\n",
        "\n",
        "    drop view customer_anonymous\n",
        "    drop materialized view customer_anonymous\n",
        "\n",
        "    alter view customer_anonymous\n",
        "    rename to v_customer_info\n",
        "\n",
        "\n"
      ],
      "metadata": {
        "id": "Wxx935RIw3eD"
      }
    }
  ]
}