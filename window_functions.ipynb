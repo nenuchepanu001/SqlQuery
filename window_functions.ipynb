{
  "nbformat": 4,
  "nbformat_minor": 0,
  "metadata": {
    "colab": {
      "provenance": [],
      "authorship_tag": "ABX9TyOnUycpz9vHYpABaZjavtsm",
      "include_colab_link": true
    },
    "kernelspec": {
      "name": "python3",
      "display_name": "Python 3"
    },
    "language_info": {
      "name": "python"
    }
  },
  "cells": [
    {
      "cell_type": "markdown",
      "metadata": {
        "id": "view-in-github",
        "colab_type": "text"
      },
      "source": [
        "<a href=\"https://colab.research.google.com/github/nenuchepanu001/SqlQuery/blob/main/window_functions.ipynb\" target=\"_parent\"><img src=\"https://colab.research.google.com/assets/colab-badge.svg\" alt=\"Open In Colab\"/></a>"
      ]
    },
    {
      "cell_type": "markdown",
      "source": [
        "**Over() with partition by**\n",
        "\n",
        "    select transaction_id,payment_type,customer_id,price_in_transaction,\n",
        "    count(*) over(partition by payment_type)\n",
        "    from sales s\n",
        "\n",
        "    select *,sum(amount) over(partition by customer_id) from payment\n",
        "\n",
        "    select film_id,title,length,category,avg(length) over(partition by category)\n",
        "    from  film f\n",
        "\n",
        "**over with order by**\n",
        "\n",
        "    select *, sum(amount) over (order by payment_date) from payment\n",
        "\n",
        "    select *, sum(amount) over (partition by customer_id order by payment_date) from payment\n",
        "\n",
        "**RANK**\n",
        "--\n",
        "    select title,name,length,RANK(),over(order by length desc)\n",
        "    from film f\n",
        "\n",
        "    select ENAME,JOB,SAL, RANK() OVER(ORDER BY SAL) FROM EMP;\n",
        "\n",
        "    select ENAME,JOB,SAL, DENSE_RANK() OVER(ORDER BY SAL) FROM EMP;\n",
        "\n",
        "    -- to filter we need to use it in sub query for rank\n",
        "\n",
        "    SELECT * FROM (select ENAME,JOB,SAL, DENSE_RANK() OVER(ORDER BY SAL) as rank FROM EMP) A  where rank=1\n",
        "\n",
        "\n",
        "    select * from (select EMPNO, rank() over(order by EMPNO) AS RANK FROM EMP) A WHERE RANK=2;\n",
        "\n",
        "**First_value()**\n",
        "\n",
        "    --CHECK BELOW QUERY\n",
        "    select * from (select  SAL,COUNT(*), FIRST_VALUE(COUNT(*)) over(PARTITION BY JOB order by COUNT(*) ASC) AS RANK FROM EMP) ;\n",
        "\n",
        "**lEAD AND LAG**\n",
        "\n",
        "    SELECT EMPNO,ENAME,JOB,SAL,LEAD(SAL) OVER(PARTITION BY JOB ORDER BY SAL) A FROM EMP;\n",
        "\n",
        "    SELECT EMPNO,ENAME,JOB,SAL,LAG(SAL) OVER(PARTITION BY JOB ORDER BY SAL) A FROM EMP;\n",
        "\n"
      ],
      "metadata": {
        "id": "mr6lCFv55gCE"
      }
    }
  ]
}